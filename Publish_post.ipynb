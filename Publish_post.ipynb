{
 "cells": [
  {
   "cell_type": "code",
   "execution_count": 54,
   "id": "8744d12f",
   "metadata": {},
   "outputs": [],
   "source": [
    "import http.server\n",
    "import datetime\n",
    "import socketserver\n",
    "import threading\n",
    "import subprocess\n",
    "import time\n",
    "import json\n",
    "import requests"
   ]
  },
  {
   "cell_type": "code",
   "execution_count": 72,
   "id": "bf5f8933",
   "metadata": {},
   "outputs": [
    {
     "ename": "OSError",
     "evalue": "[WinError 10048] Only one usage of each socket address (protocol/network address/port) is normally permitted",
     "output_type": "error",
     "traceback": [
      "\u001b[31m---------------------------------------------------------------------------\u001b[39m",
      "\u001b[31mOSError\u001b[39m                                   Traceback (most recent call last)",
      "\u001b[36mCell\u001b[39m\u001b[36m \u001b[39m\u001b[32mIn[72]\u001b[39m\u001b[32m, line 3\u001b[39m\n\u001b[32m      1\u001b[39m PORT = \u001b[32m7000\u001b[39m\n\u001b[32m      2\u001b[39m Handler = http.server.SimpleHTTPRequestHandler\n\u001b[32m----> \u001b[39m\u001b[32m3\u001b[39m httpd = \u001b[43msocketserver\u001b[49m\u001b[43m.\u001b[49m\u001b[43mTCPServer\u001b[49m\u001b[43m(\u001b[49m\u001b[43m(\u001b[49m\u001b[33;43m\"\u001b[39;49m\u001b[33;43m\"\u001b[39;49m\u001b[43m,\u001b[49m\u001b[43m \u001b[49m\u001b[43mPORT\u001b[49m\u001b[43m)\u001b[49m\u001b[43m,\u001b[49m\u001b[43m \u001b[49m\u001b[43mHandler\u001b[49m\u001b[43m)\u001b[49m\n\u001b[32m      4\u001b[39m thread = threading.Thread(target=httpd.serve_forever)\n",
      "\u001b[36mFile \u001b[39m\u001b[32mC:\\Python312\\Lib\\socketserver.py:457\u001b[39m, in \u001b[36mTCPServer.__init__\u001b[39m\u001b[34m(self, server_address, RequestHandlerClass, bind_and_activate)\u001b[39m\n\u001b[32m    455\u001b[39m \u001b[38;5;28;01mif\u001b[39;00m bind_and_activate:\n\u001b[32m    456\u001b[39m     \u001b[38;5;28;01mtry\u001b[39;00m:\n\u001b[32m--> \u001b[39m\u001b[32m457\u001b[39m         \u001b[38;5;28;43mself\u001b[39;49m\u001b[43m.\u001b[49m\u001b[43mserver_bind\u001b[49m\u001b[43m(\u001b[49m\u001b[43m)\u001b[49m\n\u001b[32m    458\u001b[39m         \u001b[38;5;28mself\u001b[39m.server_activate()\n\u001b[32m    459\u001b[39m     \u001b[38;5;28;01mexcept\u001b[39;00m:\n",
      "\u001b[36mFile \u001b[39m\u001b[32mC:\\Python312\\Lib\\socketserver.py:473\u001b[39m, in \u001b[36mTCPServer.server_bind\u001b[39m\u001b[34m(self)\u001b[39m\n\u001b[32m    471\u001b[39m \u001b[38;5;28;01mif\u001b[39;00m \u001b[38;5;28mself\u001b[39m.allow_reuse_port \u001b[38;5;129;01mand\u001b[39;00m \u001b[38;5;28mhasattr\u001b[39m(socket, \u001b[33m\"\u001b[39m\u001b[33mSO_REUSEPORT\u001b[39m\u001b[33m\"\u001b[39m):\n\u001b[32m    472\u001b[39m     \u001b[38;5;28mself\u001b[39m.socket.setsockopt(socket.SOL_SOCKET, socket.SO_REUSEPORT, \u001b[32m1\u001b[39m)\n\u001b[32m--> \u001b[39m\u001b[32m473\u001b[39m \u001b[38;5;28;43mself\u001b[39;49m\u001b[43m.\u001b[49m\u001b[43msocket\u001b[49m\u001b[43m.\u001b[49m\u001b[43mbind\u001b[49m\u001b[43m(\u001b[49m\u001b[38;5;28;43mself\u001b[39;49m\u001b[43m.\u001b[49m\u001b[43mserver_address\u001b[49m\u001b[43m)\u001b[49m\n\u001b[32m    474\u001b[39m \u001b[38;5;28mself\u001b[39m.server_address = \u001b[38;5;28mself\u001b[39m.socket.getsockname()\n",
      "\u001b[31mOSError\u001b[39m: [WinError 10048] Only one usage of each socket address (protocol/network address/port) is normally permitted"
     ]
    }
   ],
   "source": [
    "PORT = 7000\n",
    "Handler = http.server.SimpleHTTPRequestHandler\n",
    "httpd = socketserver.TCPServer((\"\", PORT), Handler)\n",
    "thread = threading.Thread(target=httpd.serve_forever)"
   ]
  },
  {
   "cell_type": "code",
   "execution_count": 57,
   "id": "621ca479",
   "metadata": {},
   "outputs": [],
   "source": [
    "thread.start()"
   ]
  },
  {
   "cell_type": "code",
   "execution_count": 58,
   "id": "c9390f83",
   "metadata": {},
   "outputs": [],
   "source": [
    "ngork = subprocess.Popen([r\"C:\\Users\\Administrator\\Desktop\\Instagram_Project\\Starting\\ngrok.exe\", \"http\", str(PORT)], stdout=subprocess.PIPE, stderr=subprocess.PIPE)\n",
    "time.sleep(2)"
   ]
  },
  {
   "cell_type": "code",
   "execution_count": 59,
   "id": "5e9e0a8d",
   "metadata": {},
   "outputs": [
    {
     "name": "stdout",
     "output_type": "stream",
     "text": [
      "Public URL: https://49db-58-27-202-194.ngrok-free.app\n",
      "Image URL: https://49db-58-27-202-194.ngrok-free.app/post.jpg\n"
     ]
    }
   ],
   "source": [
    "resp = requests.get(\"http://localhost:4040/api/tunnels\")\n",
    "public_url = json.loads(resp.text)[\"tunnels\"][0][\"public_url\"]\n",
    "print(f\"Public URL: {public_url}\")\n",
    "image_url = f\"{public_url}/post.jpg\"\n",
    "print(f\"Image URL: {image_url}\")"
   ]
  },
  {
   "cell_type": "code",
   "execution_count": 69,
   "id": "2d83e6b0",
   "metadata": {},
   "outputs": [],
   "source": [
    "caption  = \"Success is not in Never Falling, but in Rising Every Time We Fall. #Motivation #Inspiration #Success\"\n",
    "\n",
    "ig_user_id = \"1893778621376397\"\n",
    "access_token = \"EAAa6YbICp40BOxJWzz21TOSoTKhawJ8g3jdPAp2Hs48az9oMn5AUzySwrP6kcKnaocnkXBDCubLPP1Jb5AOb5vxllJ0nktTnmLZAiRRGrlTbMrR4NHA3NtnHx0c74qkKbL97R6bIrNRYKTbAzzxXiPm0uNqLjn0R4QpifxMFk5g8IwvdimQZCuRAurl4gCOgIKQ96WVBnoXST4r8Dbavr1ZCfKZAr92T9TrFd41Lt1PWPwZDZD\"\n",
    "url = f\"https://graph.facebook.com/v23.0/{ig_user_id}/media\"\n"
   ]
  },
  {
   "cell_type": "code",
   "execution_count": 70,
   "id": "663a17d0",
   "metadata": {},
   "outputs": [],
   "source": [
    "payload = {\n",
    "    \"image_url\": image_url,\n",
    "    \"caption\": caption,\n",
    "    \"user_tags\": json.dumps([\n",
    "        {\n",
    "            \"username\": \"bluebottle\",\n",
    "            \"x\": 0.5,\n",
    "            \"y\": 0.5\n",
    "        }\n",
    "    ]),\n",
    "    \"collaborators\": json.dumps([\"mountainbetweenus\"]),\n",
    "    \"access_token\": access_token\n",
    "}"
   ]
  },
  {
   "cell_type": "code",
   "execution_count": 71,
   "id": "80a9d294",
   "metadata": {},
   "outputs": [
    {
     "name": "stdout",
     "output_type": "stream",
     "text": [
      "{\n",
      "    \"error\": {\n",
      "        \"message\": \"Unsupported post request. Object with ID '1893778621376397' does not exist, cannot be loaded due to missing permissions, or does not support this operation. Please read the Graph API documentation at https://developers.facebook.com/docs/graph-api\",\n",
      "        \"type\": \"GraphMethodException\",\n",
      "        \"code\": 100,\n",
      "        \"error_subcode\": 33,\n",
      "        \"fbtrace_id\": \"ArNBK-uwou_4yXGXrOideHw\"\n",
      "    }\n",
      "}\n",
      "Creation ID: None\n"
     ]
    }
   ],
   "source": [
    "response = requests.post(url, data=payload)\n",
    "data = response.json()\n",
    "print(json.dumps(data, indent=4))\n",
    "create_id = data.get(\"id\")\n",
    "print(f\"Creation ID: {create_id}\")\n"
   ]
  },
  {
   "cell_type": "code",
   "execution_count": null,
   "id": "9170bf26",
   "metadata": {},
   "outputs": [],
   "source": []
  },
  {
   "cell_type": "code",
   "execution_count": null,
   "id": "645f07f2",
   "metadata": {},
   "outputs": [],
   "source": []
  },
  {
   "cell_type": "code",
   "execution_count": null,
   "id": "d1fe7448",
   "metadata": {},
   "outputs": [],
   "source": []
  },
  {
   "cell_type": "code",
   "execution_count": null,
   "id": "2044e667",
   "metadata": {},
   "outputs": [],
   "source": []
  },
  {
   "cell_type": "code",
   "execution_count": null,
   "id": "3ef87687",
   "metadata": {},
   "outputs": [],
   "source": []
  },
  {
   "cell_type": "code",
   "execution_count": null,
   "id": "d4bad482",
   "metadata": {},
   "outputs": [],
   "source": []
  },
  {
   "cell_type": "code",
   "execution_count": null,
   "id": "be76795b",
   "metadata": {},
   "outputs": [],
   "source": []
  }
 ],
 "metadata": {
  "kernelspec": {
   "display_name": "instagramAPI",
   "language": "python",
   "name": "python3"
  },
  "language_info": {
   "codemirror_mode": {
    "name": "ipython",
    "version": 3
   },
   "file_extension": ".py",
   "mimetype": "text/x-python",
   "name": "python",
   "nbconvert_exporter": "python",
   "pygments_lexer": "ipython3",
   "version": "3.12.4"
  }
 },
 "nbformat": 4,
 "nbformat_minor": 5
}
